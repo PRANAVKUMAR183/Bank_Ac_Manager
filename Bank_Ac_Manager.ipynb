{
 "cells": [
  {
   "cell_type": "code",
   "execution_count": 40,
   "id": "133c6934-5569-4cd2-9723-bd1c00fbfdf3",
   "metadata": {},
   "outputs": [],
   "source": [
    "class Account:\n",
    "    def __init__(self,cust_id,deposit_amt):\n",
    "        self.cust_id=cust_id\n",
    "        self.amt=deposit_amt\n",
    "        \n",
    "    def deposit(self,deposit_amt):\n",
    "        self.amt+=deposit_amt\n",
    "        \n",
    "    def withdraw(self,withdraw_amt):\n",
    "        if self.amt>=withdraw_amt:\n",
    "            self.amt-=withdraw_amt\n",
    "        else:\n",
    "            print(\"Eroor!\")\n",
    "            \n",
    "    def display_amt(self):\n",
    "        print(f\"Current balance: {self.amt:.2f}\")\n",
    "    \n",
    "    def get_amt(self):\n",
    "        return self.amt"
   ]
  },
  {
   "cell_type": "code",
   "execution_count": 42,
   "id": "ee016a0a-f51d-45b5-b7d6-46ca48136b72",
   "metadata": {},
   "outputs": [],
   "source": [
    "class CheckingAccount(Account):\n",
    "    pass\n",
    "\n",
    "class SavingsAccount(Account):\n",
    "    pass\n",
    "\n",
    "class BusinessAccount(Account):\n",
    "    pass\n"
   ]
  },
  {
   "cell_type": "code",
   "execution_count": 44,
   "id": "9cc3339e-c4d9-4805-85d7-db05e91b9b6f",
   "metadata": {},
   "outputs": [],
   "source": [
    "def initialise_objects():\n",
    "    global master_list\n",
    "    ash_checking = CheckingAccount(100001, 2545.6)\n",
    "    virat_savings = SavingsAccount(100002, 12876.9)\n",
    "    virat_business = BusinessAccount(100002, 14504.2)\n",
    "    rohit_checking = CheckingAccount(100003, 5300.0) \n",
    "    nitish_savings = SavingsAccount(100004, 2400.0)\n",
    "    zaheer_business = BusinessAccount(100005, 7600.0)\n",
    "\n",
    "    master_list = [\n",
    "        [ash_checking, 100001, 1],\n",
    "        [virat_savings, 100002, 2],\n",
    "        [virat_business, 100002, 3],\n",
    "        [rohit_checking, 100003, 1],\n",
    "        [nitish_savings, 100004, 2],\n",
    "        [zaheer_business, 100005, 3],\n",
    "    ]\n"
   ]
  },
  {
   "cell_type": "code",
   "execution_count": null,
   "id": "b9d90369-d648-4cf8-aaae-7476190d0bde",
   "metadata": {},
   "outputs": [
    {
     "name": "stdout",
     "output_type": "stream",
     "text": [
      "Welcome to 24-hour ATM service.\n",
      "Insert your card.\n"
     ]
    },
    {
     "name": "stdin",
     "output_type": "stream",
     "text": [
      "Enter your customer id number:  100002\n"
     ]
    },
    {
     "name": "stdout",
     "output_type": "stream",
     "text": [
      "Enter 1 for checking account\n",
      "Enter 2 for savings account\n",
      "Enter 3 for business account\n"
     ]
    },
    {
     "name": "stdin",
     "output_type": "stream",
     "text": [
      "Enter which account to use:  2\n"
     ]
    },
    {
     "name": "stdout",
     "output_type": "stream",
     "text": [
      "\n",
      "How may I help you?\n",
      "Press 1 for balance view.\n",
      "Press 2 for withdrawals\n",
      "Press 3 to exit.\n"
     ]
    },
    {
     "name": "stdin",
     "output_type": "stream",
     "text": [
      "Please enter your choice:  1\n"
     ]
    },
    {
     "name": "stdout",
     "output_type": "stream",
     "text": [
      "Current balance: 12876.90\n",
      "\n",
      "How may I help you?\n",
      "Press 1 for balance view.\n",
      "Press 2 for withdrawals\n",
      "Press 3 to exit.\n"
     ]
    },
    {
     "name": "stdin",
     "output_type": "stream",
     "text": [
      "Please enter your choice:  3\n"
     ]
    },
    {
     "name": "stdout",
     "output_type": "stream",
     "text": [
      "Thank you for using the 24-hour ATM service.\n",
      "Have a pleasant day.\n",
      "\n",
      "##########################################\n",
      "Welcome to 24-hour ATM service.\n",
      "Insert your card.\n"
     ]
    }
   ],
   "source": [
    "if __name__ == \"__main__\":\n",
    "    initialise_objects()\n",
    "    session_on = True\n",
    "\n",
    "    while session_on:\n",
    "        print(\"Welcome to 24-hour ATM service.\")\n",
    "        print(\"Insert your card.\")\n",
    "\n",
    "        cust_id = int(input(\"Enter your customer id number: \"))\n",
    "\n",
    "        cust_accounts = [acc for acc in master_list if acc[1] == cust_id]\n",
    "        if cust_accounts:\n",
    "            account_selected = False\n",
    "\n",
    "            while not account_selected:\n",
    "                print(\"Enter 1 for checking account\")\n",
    "                print(\"Enter 2 for savings account\")\n",
    "                print(\"Enter 3 for business account\")\n",
    "                account_type = int(input(\"Enter which account to use: \"))\n",
    "\n",
    "                selected_account = next(\n",
    "                    (acc for acc in cust_accounts if acc[2] == account_type), None\n",
    "                )\n",
    "\n",
    "                if selected_account:\n",
    "                    account_obj = selected_account[0]\n",
    "                    account_selected = True\n",
    "                    account_session_on = True\n",
    "\n",
    "                    while account_session_on:\n",
    "                        print(\"\\nHow may I help you?\")\n",
    "                        print(\"Press 1 for balance view.\")\n",
    "                        print(\"Press 2 for withdrawals\")\n",
    "                        print(\"Press 3 to exit.\")\n",
    "\n",
    "                        action_value = int(input(\"Please enter your choice: \"))\n",
    "\n",
    "                        if action_value == 1:\n",
    "                            account_obj.display_amt()\n",
    "\n",
    "                        elif action_value == 2:\n",
    "                            amt_to_withdraw = float(\n",
    "                                input(\"Enter the amount to withdraw: \")\n",
    "                            )\n",
    "                            account_obj.withdraw(amt_to_withdraw)\n",
    "                            print(f\"Current balance is {account_obj.get_amt():.2f}\")\n",
    "\n",
    "                        elif action_value == 3:\n",
    "                            account_session_on = False\n",
    "                            print(\"Thank you for using the 24-hour ATM service.\")\n",
    "                            print(\"Have a pleasant day.\\n\")\n",
    "                            print(\"##########################################\")\n",
    "                        else:\n",
    "                            print(\"Invalid option. Please try again.\")\n",
    "                else:\n",
    "                    print(\"Error. You don't have that account. Please try again.\\n\")\n",
    "        else:\n",
    "            print(\"Cannot find your record. Please get your card. Exiting this session...\") \n",
    "        "
   ]
  },
  {
   "cell_type": "code",
   "execution_count": null,
   "id": "01a9f206-b2b5-4e6a-ba8b-d2b4efb2bfe4",
   "metadata": {},
   "outputs": [],
   "source": []
  },
  {
   "cell_type": "code",
   "execution_count": null,
   "id": "e6ff0e3b-3829-452a-b0af-f28119cdeed6",
   "metadata": {},
   "outputs": [],
   "source": []
  }
 ],
 "metadata": {
  "kernelspec": {
   "display_name": "Python 3 (ipykernel)",
   "language": "python",
   "name": "python3"
  },
  "language_info": {
   "codemirror_mode": {
    "name": "ipython",
    "version": 3
   },
   "file_extension": ".py",
   "mimetype": "text/x-python",
   "name": "python",
   "nbconvert_exporter": "python",
   "pygments_lexer": "ipython3",
   "version": "3.12.4"
  }
 },
 "nbformat": 4,
 "nbformat_minor": 5
}
